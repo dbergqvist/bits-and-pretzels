{
 "cells": [
  {
   "cell_type": "code",
   "execution_count": 2,
   "metadata": {},
   "outputs": [
    {
     "data": {
      "text/html": [
       "Done"
      ],
      "text/plain": [
       "QueryResultsTable job_J1tjaTA84Q97a4pCYJ00KqVkAfmE"
      ]
     },
     "execution_count": 2,
     "metadata": {},
     "output_type": "execute_result"
    }
   ],
   "source": [
    "%%bq query\n",
    "#standardSQL\n",
    "CREATE OR REPLACE MODEL `bergqvist-sandbox.bike_demo.lr_low`\n",
    "OPTIONS\n",
    "  (model_type='logistic_reg',\n",
    "    l2_reg=0.2,\n",
    "    l1_reg=0.8) AS\n",
    "SELECT\n",
    "  CAST(dow AS string) AS dow,\n",
    "  CAST(month AS string) AS month,\n",
    "  CAST(quarter AS string) AS quarter,\n",
    "  CAST(hour AS string) AS hour,\n",
    "  (temp_f - 32)*5/8 AS temp_c,\n",
    "  wind_speed,\n",
    "  max_speed,\n",
    "  IF(wind_gust=999.9, 0, wind_gust) AS wind_gust,\n",
    "  IF(prepcip=99.99, 0, prepcip) AS prepcip,\n",
    "  prep_type,\n",
    "  IF(snow_dep=999.9, 0, snow_dep) AS snow_dep, \n",
    "  CAST(bikesAvailable / (spacesAvailable + bikesAvailable) > 0.25 AS int64) AS label\n",
    "FROM\n",
    "  `bergqvist-sandbox.bike_demo.bike_final`\n",
    "WHERE\n",
    "  `rand` < 0.3\n",
    ";"
   ]
  },
  {
   "cell_type": "code",
   "execution_count": 3,
   "metadata": {},
   "outputs": [
    {
     "data": {
      "text/html": [
       "\n",
       "    <div class=\"bqtv\" id=\"1_153988393301\"><table><tr><th>precision</th><th>recall</th><th>accuracy</th><th>f1_score</th><th>log_loss</th><th>roc_auc</th></tr><tr><td>0.583277765417</td><td>0.846188919426</td><td>0.578959065948</td><td>0.690555697837</td><td>0.674091401052</td><td>0.596293</td></tr></table></div>\n",
       "    <br />(rows: 1, time: 7.5s,     5GB processed, job: job_4U-c88tO4qooHJbqoIJAaOJjMlcJ)<br />\n",
       "    <script src=\"/static/components/requirejs/require.js\"></script>\n",
       "    <script>\n",
       "      require.config({\n",
       "        paths: {\n",
       "          base: '/static/base',\n",
       "          d3: '//cdnjs.cloudflare.com/ajax/libs/d3/3.4.13/d3',\n",
       "          plotly: 'https://cdn.plot.ly/plotly-1.5.1.min.js?noext',\n",
       "          jquery: '//ajax.googleapis.com/ajax/libs/jquery/2.0.0/jquery.min'\n",
       "        },\n",
       "        map: {\n",
       "          '*': {\n",
       "            datalab: 'nbextensions/gcpdatalab'\n",
       "          }\n",
       "        },\n",
       "        shim: {\n",
       "          plotly: {\n",
       "            deps: ['d3', 'jquery'],\n",
       "            exports: 'plotly'\n",
       "          }\n",
       "        }\n",
       "      });\n",
       "\n",
       "      require(['datalab/charting', 'datalab/element!1_153988393301', 'base/js/events',\n",
       "          'datalab/style!/nbextensions/gcpdatalab/charting.css'],\n",
       "        function(charts, dom, events) {\n",
       "          charts.render('gcharts', dom, events, 'table', [], {\"rows\": [{\"c\": [{\"v\": 0.5832777654171076}, {\"v\": 0.8461889194260561}, {\"v\": 0.5789590659479894}, {\"v\": 0.6905556978373358}, {\"v\": 0.6740914010519166}, {\"v\": 0.596293}]}], \"cols\": [{\"type\": \"number\", \"id\": \"precision\", \"label\": \"precision\"}, {\"type\": \"number\", \"id\": \"recall\", \"label\": \"recall\"}, {\"type\": \"number\", \"id\": \"accuracy\", \"label\": \"accuracy\"}, {\"type\": \"number\", \"id\": \"f1_score\", \"label\": \"f1_score\"}, {\"type\": \"number\", \"id\": \"log_loss\", \"label\": \"log_loss\"}, {\"type\": \"number\", \"id\": \"roc_auc\", \"label\": \"roc_auc\"}]},\n",
       "            {\n",
       "              pageSize: 25,\n",
       "              cssClassNames:  {\n",
       "                tableRow: 'gchart-table-row',\n",
       "                headerRow: 'gchart-table-headerrow',\n",
       "                oddTableRow: 'gchart-table-oddrow',\n",
       "                selectedTableRow: 'gchart-table-selectedrow',\n",
       "                hoverTableRow: 'gchart-table-hoverrow',\n",
       "                tableCell: 'gchart-table-cell',\n",
       "                headerCell: 'gchart-table-headercell',\n",
       "                rowNumberCell: 'gchart-table-rownumcell'\n",
       "              }\n",
       "            },\n",
       "            {source_index: 0, fields: 'precision,recall,accuracy,f1_score,log_loss,roc_auc'},\n",
       "            0,\n",
       "            1);\n",
       "        }\n",
       "      );\n",
       "    </script>\n",
       "  "
      ],
      "text/plain": [
       "QueryResultsTable job_4U-c88tO4qooHJbqoIJAaOJjMlcJ"
      ]
     },
     "execution_count": 3,
     "metadata": {},
     "output_type": "execute_result"
    }
   ],
   "source": [
    "%%bq query\n",
    "#standardsql\n",
    "SELECT\n",
    "  *\n",
    "FROM\n",
    "  ML.EVALUATE(MODEL `bergqvist-sandbox.bike_demo.lr_low`, (\n",
    "SELECT \n",
    "  CAST(dow AS string) AS dow,\n",
    "  CAST(month AS string) AS month,\n",
    "  CAST(quarter AS string) AS quarter,\n",
    "  CAST(hour AS string) AS hour,\n",
    "  (temp_f - 32)*5/8 AS temp_c, \n",
    "  wind_speed,\n",
    "  max_speed,\n",
    "  IF(wind_gust=999.9, 0, wind_gust) AS wind_gust,\n",
    "  IF(prepcip=99.99, 0, prepcip) AS prepcip,\n",
    "  prep_type,\n",
    "  IF(snow_dep=999.9, 0, snow_dep) AS snow_dep,\n",
    "  CAST(bikesAvailable / (spacesAvailable + bikesAvailable) > 0.25 AS INT64) AS label\n",
    "FROM\n",
    "  `bergqvist-sandbox.bike_demo.bike_final`\n",
    "WHERE\n",
    "    `rand` BETWEEN 0.3 AND 0.5))\n",
    ";"
   ]
  },
  {
   "cell_type": "code",
   "execution_count": 4,
   "metadata": {},
   "outputs": [
    {
     "data": {
      "text/html": [
       "\n",
       "    <div class=\"bqtv\" id=\"2_153988400541\"><table><tr><th>predicted_label</th><th>dow</th><th>month</th><th>quarter</th><th>hour</th><th>temp_c</th><th>wind_speed</th><th>max_speed</th><th>wind_gust</th><th>prepcip</th><th>prep_type</th><th>snow_dep</th><th>label</th></tr><tr><td>0</td><td>2</td><td>1</td><td>1</td><td>0</td><td>-7.1875</td><td>8.5</td><td>13.4</td><td>20.8</td><td>0.0</td><td></td><td>0.0</td><td>0</td></tr><tr><td>0</td><td>2</td><td>3</td><td>1</td><td>12</td><td>0.8125</td><td>10.2</td><td>13.6</td><td>19.6</td><td>0.0</td><td></td><td>7.1</td><td>0</td></tr><tr><td>1</td><td>2</td><td>11</td><td>4</td><td>7</td><td>8.25</td><td>10.2</td><td>15.5</td><td>19.8</td><td>0.0</td><td>E</td><td>0.0</td><td>1</td></tr><tr><td>1</td><td>2</td><td>11</td><td>4</td><td>9</td><td>8.25</td><td>10.2</td><td>15.5</td><td>19.8</td><td>0.0</td><td>E</td><td>0.0</td><td>0</td></tr><tr><td>1</td><td>2</td><td>11</td><td>4</td><td>13</td><td>8.25</td><td>10.2</td><td>15.5</td><td>19.8</td><td>0.0</td><td>E</td><td>0.0</td><td>1</td></tr><tr><td>0</td><td>7</td><td>1</td><td>1</td><td>4</td><td>-1.75</td><td>3.2</td><td>5.2</td><td>0.0</td><td>0.0</td><td>I</td><td>0.0</td><td>0</td></tr><tr><td>1</td><td>3</td><td>11</td><td>4</td><td>8</td><td>4.5625</td><td>8.5</td><td>11.8</td><td>15.9</td><td>0.0</td><td>I</td><td>0.0</td><td>1</td></tr><tr><td>0</td><td>3</td><td>1</td><td>1</td><td>20</td><td>-6.25</td><td>12.2</td><td>17.1</td><td>26.2</td><td>0.0</td><td></td><td>0.0</td><td>0</td></tr><tr><td>1</td><td>2</td><td>11</td><td>4</td><td>11</td><td>8.25</td><td>10.2</td><td>15.5</td><td>19.8</td><td>0.0</td><td>E</td><td>0.0</td><td>1</td></tr><tr><td>0</td><td>2</td><td>3</td><td>1</td><td>13</td><td>0.8125</td><td>10.2</td><td>13.6</td><td>19.6</td><td>0.0</td><td></td><td>7.1</td><td>0</td></tr><tr><td>1</td><td>3</td><td>11</td><td>4</td><td>11</td><td>4.5625</td><td>8.5</td><td>11.8</td><td>15.9</td><td>0.0</td><td>I</td><td>0.0</td><td>1</td></tr><tr><td>1</td><td>2</td><td>11</td><td>4</td><td>10</td><td>8.25</td><td>10.2</td><td>15.5</td><td>19.8</td><td>0.0</td><td>E</td><td>0.0</td><td>1</td></tr><tr><td>1</td><td>2</td><td>11</td><td>4</td><td>8</td><td>8.25</td><td>10.2</td><td>15.5</td><td>19.8</td><td>0.0</td><td>E</td><td>0.0</td><td>1</td></tr><tr><td>0</td><td>3</td><td>1</td><td>1</td><td>20</td><td>-6.25</td><td>12.2</td><td>17.1</td><td>26.2</td><td>0.0</td><td></td><td>0.0</td><td>0</td></tr><tr><td>1</td><td>3</td><td>11</td><td>4</td><td>9</td><td>4.5625</td><td>8.5</td><td>11.8</td><td>15.9</td><td>0.0</td><td>I</td><td>0.0</td><td>0</td></tr><tr><td>1</td><td>2</td><td>11</td><td>4</td><td>7</td><td>8.25</td><td>10.2</td><td>15.5</td><td>19.8</td><td>0.0</td><td>E</td><td>0.0</td><td>0</td></tr><tr><td>1</td><td>3</td><td>11</td><td>4</td><td>8</td><td>4.5625</td><td>8.5</td><td>11.8</td><td>15.9</td><td>0.0</td><td>I</td><td>0.0</td><td>0</td></tr><tr><td>1</td><td>2</td><td>11</td><td>4</td><td>11</td><td>8.25</td><td>10.2</td><td>15.5</td><td>19.8</td><td>0.0</td><td>E</td><td>0.0</td><td>1</td></tr><tr><td>1</td><td>3</td><td>11</td><td>4</td><td>9</td><td>4.5625</td><td>8.5</td><td>11.8</td><td>15.9</td><td>0.0</td><td>I</td><td>0.0</td><td>1</td></tr><tr><td>1</td><td>3</td><td>11</td><td>4</td><td>10</td><td>4.5625</td><td>8.5</td><td>11.8</td><td>15.9</td><td>0.0</td><td>I</td><td>0.0</td><td>0</td></tr><tr><td>0</td><td>4</td><td>1</td><td>1</td><td>5</td><td>-0.5</td><td>16.8</td><td>20.6</td><td>35.9</td><td>0.0</td><td></td><td>0.0</td><td>0</td></tr><tr><td>0</td><td>2</td><td>3</td><td>1</td><td>12</td><td>0.8125</td><td>10.2</td><td>13.6</td><td>19.6</td><td>0.0</td><td></td><td>7.1</td><td>0</td></tr><tr><td>1</td><td>2</td><td>11</td><td>4</td><td>7</td><td>8.25</td><td>10.2</td><td>15.5</td><td>19.8</td><td>0.0</td><td>E</td><td>0.0</td><td>1</td></tr><tr><td>1</td><td>2</td><td>11</td><td>4</td><td>11</td><td>8.25</td><td>10.2</td><td>15.5</td><td>19.8</td><td>0.0</td><td>E</td><td>0.0</td><td>0</td></tr><tr><td>1</td><td>2</td><td>11</td><td>4</td><td>8</td><td>8.25</td><td>10.2</td><td>15.5</td><td>19.8</td><td>0.0</td><td>E</td><td>0.0</td><td>1</td></tr></table></div>\n",
       "    <br />(rows: 28321591, time: 32.4s,     5GB processed, job: job_dic3xx4PYv6GBzwuLSOcamM0an8J)<br />\n",
       "    <script src=\"/static/components/requirejs/require.js\"></script>\n",
       "    <script>\n",
       "      require.config({\n",
       "        paths: {\n",
       "          base: '/static/base',\n",
       "          d3: '//cdnjs.cloudflare.com/ajax/libs/d3/3.4.13/d3',\n",
       "          plotly: 'https://cdn.plot.ly/plotly-1.5.1.min.js?noext',\n",
       "          jquery: '//ajax.googleapis.com/ajax/libs/jquery/2.0.0/jquery.min'\n",
       "        },\n",
       "        map: {\n",
       "          '*': {\n",
       "            datalab: 'nbextensions/gcpdatalab'\n",
       "          }\n",
       "        },\n",
       "        shim: {\n",
       "          plotly: {\n",
       "            deps: ['d3', 'jquery'],\n",
       "            exports: 'plotly'\n",
       "          }\n",
       "        }\n",
       "      });\n",
       "\n",
       "      require(['datalab/charting', 'datalab/element!2_153988400541', 'base/js/events',\n",
       "          'datalab/style!/nbextensions/gcpdatalab/charting.css'],\n",
       "        function(charts, dom, events) {\n",
       "          charts.render('gcharts', dom, events, 'paged_table', [], {\"rows\": [{\"c\": [{\"v\": 0}, {\"v\": \"2\"}, {\"v\": \"1\"}, {\"v\": \"1\"}, {\"v\": \"0\"}, {\"v\": -7.1875}, {\"v\": \"8.5\"}, {\"v\": \"13.4\"}, {\"v\": 20.8}, {\"v\": 0.0}, {\"v\": \"\"}, {\"v\": 0.0}, {\"v\": 0}]}, {\"c\": [{\"v\": 0}, {\"v\": \"2\"}, {\"v\": \"3\"}, {\"v\": \"1\"}, {\"v\": \"12\"}, {\"v\": 0.8124999999999982}, {\"v\": \"10.2\"}, {\"v\": \"13.6\"}, {\"v\": 19.6}, {\"v\": 0.0}, {\"v\": \"\"}, {\"v\": 7.1}, {\"v\": 0}]}, {\"c\": [{\"v\": 1}, {\"v\": \"2\"}, {\"v\": \"11\"}, {\"v\": \"4\"}, {\"v\": \"7\"}, {\"v\": 8.250000000000002}, {\"v\": \"10.2\"}, {\"v\": \"15.5\"}, {\"v\": 19.8}, {\"v\": 0.0}, {\"v\": \"E\"}, {\"v\": 0.0}, {\"v\": 1}]}, {\"c\": [{\"v\": 1}, {\"v\": \"2\"}, {\"v\": \"11\"}, {\"v\": \"4\"}, {\"v\": \"9\"}, {\"v\": 8.250000000000002}, {\"v\": \"10.2\"}, {\"v\": \"15.5\"}, {\"v\": 19.8}, {\"v\": 0.0}, {\"v\": \"E\"}, {\"v\": 0.0}, {\"v\": 0}]}, {\"c\": [{\"v\": 1}, {\"v\": \"2\"}, {\"v\": \"11\"}, {\"v\": \"4\"}, {\"v\": \"13\"}, {\"v\": 8.250000000000002}, {\"v\": \"10.2\"}, {\"v\": \"15.5\"}, {\"v\": 19.8}, {\"v\": 0.0}, {\"v\": \"E\"}, {\"v\": 0.0}, {\"v\": 1}]}, {\"c\": [{\"v\": 0}, {\"v\": \"7\"}, {\"v\": \"1\"}, {\"v\": \"1\"}, {\"v\": \"4\"}, {\"v\": -1.7500000000000004}, {\"v\": \"3.2\"}, {\"v\": \"5.2\"}, {\"v\": 0.0}, {\"v\": 0.0}, {\"v\": \"I\"}, {\"v\": 0.0}, {\"v\": 0}]}, {\"c\": [{\"v\": 1}, {\"v\": \"3\"}, {\"v\": \"11\"}, {\"v\": \"4\"}, {\"v\": \"8\"}, {\"v\": 4.562499999999998}, {\"v\": \"8.5\"}, {\"v\": \"11.8\"}, {\"v\": 15.9}, {\"v\": 0.0}, {\"v\": \"I\"}, {\"v\": 0.0}, {\"v\": 1}]}, {\"c\": [{\"v\": 0}, {\"v\": \"3\"}, {\"v\": \"1\"}, {\"v\": \"1\"}, {\"v\": \"20\"}, {\"v\": -6.25}, {\"v\": \"12.2\"}, {\"v\": \"17.1\"}, {\"v\": 26.2}, {\"v\": 0.0}, {\"v\": \"\"}, {\"v\": 0.0}, {\"v\": 0}]}, {\"c\": [{\"v\": 1}, {\"v\": \"2\"}, {\"v\": \"11\"}, {\"v\": \"4\"}, {\"v\": \"11\"}, {\"v\": 8.250000000000002}, {\"v\": \"10.2\"}, {\"v\": \"15.5\"}, {\"v\": 19.8}, {\"v\": 0.0}, {\"v\": \"E\"}, {\"v\": 0.0}, {\"v\": 1}]}, {\"c\": [{\"v\": 0}, {\"v\": \"2\"}, {\"v\": \"3\"}, {\"v\": \"1\"}, {\"v\": \"13\"}, {\"v\": 0.8124999999999982}, {\"v\": \"10.2\"}, {\"v\": \"13.6\"}, {\"v\": 19.6}, {\"v\": 0.0}, {\"v\": \"\"}, {\"v\": 7.1}, {\"v\": 0}]}, {\"c\": [{\"v\": 1}, {\"v\": \"3\"}, {\"v\": \"11\"}, {\"v\": \"4\"}, {\"v\": \"11\"}, {\"v\": 4.562499999999998}, {\"v\": \"8.5\"}, {\"v\": \"11.8\"}, {\"v\": 15.9}, {\"v\": 0.0}, {\"v\": \"I\"}, {\"v\": 0.0}, {\"v\": 1}]}, {\"c\": [{\"v\": 1}, {\"v\": \"2\"}, {\"v\": \"11\"}, {\"v\": \"4\"}, {\"v\": \"10\"}, {\"v\": 8.250000000000002}, {\"v\": \"10.2\"}, {\"v\": \"15.5\"}, {\"v\": 19.8}, {\"v\": 0.0}, {\"v\": \"E\"}, {\"v\": 0.0}, {\"v\": 1}]}, {\"c\": [{\"v\": 1}, {\"v\": \"2\"}, {\"v\": \"11\"}, {\"v\": \"4\"}, {\"v\": \"8\"}, {\"v\": 8.250000000000002}, {\"v\": \"10.2\"}, {\"v\": \"15.5\"}, {\"v\": 19.8}, {\"v\": 0.0}, {\"v\": \"E\"}, {\"v\": 0.0}, {\"v\": 1}]}, {\"c\": [{\"v\": 0}, {\"v\": \"3\"}, {\"v\": \"1\"}, {\"v\": \"1\"}, {\"v\": \"20\"}, {\"v\": -6.25}, {\"v\": \"12.2\"}, {\"v\": \"17.1\"}, {\"v\": 26.2}, {\"v\": 0.0}, {\"v\": \"\"}, {\"v\": 0.0}, {\"v\": 0}]}, {\"c\": [{\"v\": 1}, {\"v\": \"3\"}, {\"v\": \"11\"}, {\"v\": \"4\"}, {\"v\": \"9\"}, {\"v\": 4.562499999999998}, {\"v\": \"8.5\"}, {\"v\": \"11.8\"}, {\"v\": 15.9}, {\"v\": 0.0}, {\"v\": \"I\"}, {\"v\": 0.0}, {\"v\": 0}]}, {\"c\": [{\"v\": 1}, {\"v\": \"2\"}, {\"v\": \"11\"}, {\"v\": \"4\"}, {\"v\": \"7\"}, {\"v\": 8.250000000000002}, {\"v\": \"10.2\"}, {\"v\": \"15.5\"}, {\"v\": 19.8}, {\"v\": 0.0}, {\"v\": \"E\"}, {\"v\": 0.0}, {\"v\": 0}]}, {\"c\": [{\"v\": 1}, {\"v\": \"3\"}, {\"v\": \"11\"}, {\"v\": \"4\"}, {\"v\": \"8\"}, {\"v\": 4.562499999999998}, {\"v\": \"8.5\"}, {\"v\": \"11.8\"}, {\"v\": 15.9}, {\"v\": 0.0}, {\"v\": \"I\"}, {\"v\": 0.0}, {\"v\": 0}]}, {\"c\": [{\"v\": 1}, {\"v\": \"2\"}, {\"v\": \"11\"}, {\"v\": \"4\"}, {\"v\": \"11\"}, {\"v\": 8.250000000000002}, {\"v\": \"10.2\"}, {\"v\": \"15.5\"}, {\"v\": 19.8}, {\"v\": 0.0}, {\"v\": \"E\"}, {\"v\": 0.0}, {\"v\": 1}]}, {\"c\": [{\"v\": 1}, {\"v\": \"3\"}, {\"v\": \"11\"}, {\"v\": \"4\"}, {\"v\": \"9\"}, {\"v\": 4.562499999999998}, {\"v\": \"8.5\"}, {\"v\": \"11.8\"}, {\"v\": 15.9}, {\"v\": 0.0}, {\"v\": \"I\"}, {\"v\": 0.0}, {\"v\": 1}]}, {\"c\": [{\"v\": 1}, {\"v\": \"3\"}, {\"v\": \"11\"}, {\"v\": \"4\"}, {\"v\": \"10\"}, {\"v\": 4.562499999999998}, {\"v\": \"8.5\"}, {\"v\": \"11.8\"}, {\"v\": 15.9}, {\"v\": 0.0}, {\"v\": \"I\"}, {\"v\": 0.0}, {\"v\": 0}]}, {\"c\": [{\"v\": 0}, {\"v\": \"4\"}, {\"v\": \"1\"}, {\"v\": \"1\"}, {\"v\": \"5\"}, {\"v\": -0.5000000000000004}, {\"v\": \"16.8\"}, {\"v\": \"20.6\"}, {\"v\": 35.9}, {\"v\": 0.0}, {\"v\": \"\"}, {\"v\": 0.0}, {\"v\": 0}]}, {\"c\": [{\"v\": 0}, {\"v\": \"2\"}, {\"v\": \"3\"}, {\"v\": \"1\"}, {\"v\": \"12\"}, {\"v\": 0.8124999999999982}, {\"v\": \"10.2\"}, {\"v\": \"13.6\"}, {\"v\": 19.6}, {\"v\": 0.0}, {\"v\": \"\"}, {\"v\": 7.1}, {\"v\": 0}]}, {\"c\": [{\"v\": 1}, {\"v\": \"2\"}, {\"v\": \"11\"}, {\"v\": \"4\"}, {\"v\": \"7\"}, {\"v\": 8.250000000000002}, {\"v\": \"10.2\"}, {\"v\": \"15.5\"}, {\"v\": 19.8}, {\"v\": 0.0}, {\"v\": \"E\"}, {\"v\": 0.0}, {\"v\": 1}]}, {\"c\": [{\"v\": 1}, {\"v\": \"2\"}, {\"v\": \"11\"}, {\"v\": \"4\"}, {\"v\": \"11\"}, {\"v\": 8.250000000000002}, {\"v\": \"10.2\"}, {\"v\": \"15.5\"}, {\"v\": 19.8}, {\"v\": 0.0}, {\"v\": \"E\"}, {\"v\": 0.0}, {\"v\": 0}]}, {\"c\": [{\"v\": 1}, {\"v\": \"2\"}, {\"v\": \"11\"}, {\"v\": \"4\"}, {\"v\": \"8\"}, {\"v\": 8.250000000000002}, {\"v\": \"10.2\"}, {\"v\": \"15.5\"}, {\"v\": 19.8}, {\"v\": 0.0}, {\"v\": \"E\"}, {\"v\": 0.0}, {\"v\": 1}]}], \"cols\": [{\"type\": \"number\", \"id\": \"predicted_label\", \"label\": \"predicted_label\"}, {\"type\": \"string\", \"id\": \"dow\", \"label\": \"dow\"}, {\"type\": \"string\", \"id\": \"month\", \"label\": \"month\"}, {\"type\": \"string\", \"id\": \"quarter\", \"label\": \"quarter\"}, {\"type\": \"string\", \"id\": \"hour\", \"label\": \"hour\"}, {\"type\": \"number\", \"id\": \"temp_c\", \"label\": \"temp_c\"}, {\"type\": \"string\", \"id\": \"wind_speed\", \"label\": \"wind_speed\"}, {\"type\": \"string\", \"id\": \"max_speed\", \"label\": \"max_speed\"}, {\"type\": \"number\", \"id\": \"wind_gust\", \"label\": \"wind_gust\"}, {\"type\": \"number\", \"id\": \"prepcip\", \"label\": \"prepcip\"}, {\"type\": \"string\", \"id\": \"prep_type\", \"label\": \"prep_type\"}, {\"type\": \"number\", \"id\": \"snow_dep\", \"label\": \"snow_dep\"}, {\"type\": \"number\", \"id\": \"label\", \"label\": \"label\"}]},\n",
       "            {\n",
       "              pageSize: 25,\n",
       "              cssClassNames:  {\n",
       "                tableRow: 'gchart-table-row',\n",
       "                headerRow: 'gchart-table-headerrow',\n",
       "                oddTableRow: 'gchart-table-oddrow',\n",
       "                selectedTableRow: 'gchart-table-selectedrow',\n",
       "                hoverTableRow: 'gchart-table-hoverrow',\n",
       "                tableCell: 'gchart-table-cell',\n",
       "                headerCell: 'gchart-table-headercell',\n",
       "                rowNumberCell: 'gchart-table-rownumcell'\n",
       "              }\n",
       "            },\n",
       "            {source_index: 1, fields: 'predicted_label,dow,month,quarter,hour,temp_c,wind_speed,max_speed,wind_gust,prepcip,prep_type,snow_dep,label'},\n",
       "            0,\n",
       "            28321591);\n",
       "        }\n",
       "      );\n",
       "    </script>\n",
       "  "
      ],
      "text/plain": [
       "QueryResultsTable job_dic3xx4PYv6GBzwuLSOcamM0an8J"
      ]
     },
     "execution_count": 4,
     "metadata": {},
     "output_type": "execute_result"
    }
   ],
   "source": [
    "%%bq query\n",
    "#standardsql\n",
    "SELECT\n",
    "  *\n",
    "FROM\n",
    "  ML.PREDICT(MODEL `bergqvist-sandbox.bike_demo.lr_low`, (\n",
    "SELECT \n",
    "  CAST(dow AS string) AS dow,\n",
    "  CAST(month AS string) AS month,\n",
    "  CAST(quarter AS string) AS quarter,\n",
    "  CAST(hour AS string) AS hour,\n",
    "  (temp_f - 32)*5/8 AS temp_c, \n",
    "  wind_speed,\n",
    "  max_speed,\n",
    "  IF(wind_gust=999.9, 0, wind_gust) AS wind_gust,\n",
    "  IF(prepcip=99.99, 0, prepcip) AS prepcip,\n",
    "  prep_type,\n",
    "  IF(snow_dep=999.9, 0, snow_dep) AS snow_dep,\n",
    "  CAST(bikesAvailable / (spacesAvailable + bikesAvailable) > 0.25 AS INT64) AS label\n",
    "FROM\n",
    "  `bergqvist-sandbox.bike_demo.bike_final`\n",
    "WHERE\n",
    "    `rand` > 0.5))\n",
    ";"
   ]
  },
  {
   "cell_type": "code",
   "execution_count": 6,
   "metadata": {},
   "outputs": [
    {
     "name": "stdout",
     "output_type": "stream",
     "text": [
      "SELECT iteration, loss as training_loss from ML.TRAINING_INFO(MODEL `bergqvist-sandbox.bike_demo.lr_low`)\n"
     ]
    },
    {
     "data": {
      "text/plain": [
       "<matplotlib.axes._subplots.AxesSubplot at 0x7f43e77e21d0>"
      ]
     },
     "execution_count": 6,
     "metadata": {},
     "output_type": "execute_result"
    },
    {
     "data": {
      "image/png": "[encoded data removed]",
      "text/plain": [
       "<matplotlib.figure.Figure at 0x7f43e77a4150>"
      ]
     },
     "metadata": {},
     "output_type": "display_data"
    }
   ],
   "source": [
    "import google.datalab.bigquery as bq\n",
    "import numpy as np\n",
    "query = \"SELECT iteration, loss as training_loss from ML.TRAINING_INFO(MODEL `bergqvist-sandbox.bike_demo.lr_low`)\"\n",
    "print query\n",
    "loss_df = bq.Query(query).execute().result().to_dataframe()\n",
    "loss_df['training_loss'] = np.sqrt(loss_df['training_loss'])  # mean square error to RMSE\n",
    "loss_df.plot(x='iteration', y='training_loss')"
   ]
  }
 ],
 "metadata": {
  "kernelspec": {
   "display_name": "Python 2",
   "language": "python",
   "name": "python2"
  },
  "language_info": {
   "codemirror_mode": {
    "name": "ipython",
    "version": 2
   },
   "file_extension": ".py",
   "mimetype": "text/x-python",
   "name": "python",
   "nbconvert_exporter": "python",
   "pygments_lexer": "ipython2",
   "version": "2.7.15"
  }
 },
 "nbformat": 4,
 "nbformat_minor": 2
}
